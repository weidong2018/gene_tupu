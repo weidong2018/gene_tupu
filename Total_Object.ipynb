{
 "cells": [
  {
   "cell_type": "markdown",
   "metadata": {},
   "source": [
    "### 目标\n",
    "* （1）根据输入的符号提取实体\n",
    "* （2）输出实体和关系，赋值变量"
   ]
  },
  {
   "cell_type": "code",
   "execution_count": 1,
   "metadata": {},
   "outputs": [],
   "source": [
    "import re\n",
    "from py2neo import Graph,Node,Relationship,NodeMatcher\n",
    "import numpy as np\n",
    "from scipy import spatial\n",
    "import gensim\n",
    "import jieba\n",
    "import numpy as np\n",
    "from scipy.linalg import norm"
   ]
  },
  {
   "cell_type": "code",
   "execution_count": 2,
   "metadata": {},
   "outputs": [],
   "source": [
    "\"\"\"\n",
    "函数说明：输入一个字符串，返回图查询的结果\n",
    "\n",
    "\"\"\"\n",
    "def get_Answer(string):\n",
    "    graph = Graph(host=\"10.88.3.81\",auth=(\"neo4j\",\"liubaichuan\"))\n",
    "    data1 = graph.run(string).to_data_frame()\n",
    "    return data1"
   ]
  },
  {
   "cell_type": "code",
   "execution_count": 3,
   "metadata": {},
   "outputs": [
    {
     "name": "stderr",
     "output_type": "stream",
     "text": [
      "/opt/anaconda3/envs/tensorflow/lib/python3.7/site-packages/ipykernel_launcher.py:7: DeprecationWarning: Call to deprecated `wv` (Attribute will be removed in 4.0.0, use self instead).\n",
      "  import sys\n"
     ]
    }
   ],
   "source": [
    "'''\n",
    "函数说明：\n",
    "用于语句计算相似度的函数\n",
    "'''\n",
    "model_file = '/Users/dong/Desktop/GoogleNews-vectors-negative300.bin'\n",
    "model = gensim.models.KeyedVectors.load_word2vec_format(model_file, binary=True)\n",
    "index2word_set = set(model.wv.index2word)\n",
    "\n",
    "def avg_feature_vector(sentence, model, num_features, index2word_set):\n",
    "    words = sentence.split()\n",
    "    feature_vec = np.zeros((num_features, ), dtype='float32')\n",
    "    n_words = 0\n",
    "    for word in words:\n",
    "        if word in index2word_set:\n",
    "            n_words += 1\n",
    "            feature_vec = np.add(feature_vec, model[word])\n",
    "    if (n_words > 0):\n",
    "        feature_vec = np.divide(feature_vec, n_words)\n",
    "    return feature_vec"
   ]
  },
  {
   "cell_type": "code",
   "execution_count": 4,
   "metadata": {},
   "outputs": [],
   "source": [
    "'''\n",
    "函数说明：导入所有问题模板\n",
    "输入：\"question_pattern.txt\"\n",
    "输出：所有问题组成的list\n",
    "'''\n",
    "def qPattern(a):\n",
    "    qList=[]\n",
    "    with open(a, 'r') as file:\n",
    "        for l in  file:\n",
    "            qList.append(l.strip('\\n'))\n",
    "    return(qList)\n"
   ]
  },
  {
   "cell_type": "code",
   "execution_count": 5,
   "metadata": {},
   "outputs": [],
   "source": [
    "'''\n",
    "问题预处理，将一些无法被识别的sequence变成id，增强对问题类型的识别能力\n",
    "protein:{id}   Q03073\n",
    "Species{name}\n",
    "Gene:{id: 'AET4Gv20696400', species: 'Aegilops tauschii'})\n",
    "GO:{id: 'GO:1902494'})(_204455104:GO {id: 'GO:0004553'}\n",
    "Sequence:UPI00013ED01D\n",
    "'''\n",
    "def realQ(Question):\n",
    "    verb=Question.split()\n",
    "    for i in verb:\n",
    "        if str(i).lstrip('[\\'').rstrip('\\']').strip('{').strip('}').strip('(').strip(')').isalpha():\n",
    "            continue\n",
    "        elif str(i).lstrip('[\\'').rstrip('\\']').strip('{').strip('}').strip('(').strip(')').isalnum():\n",
    "            if str(i).lstrip('[\\'').rstrip('\\']').strip('{').strip('}').strip('(').strip(')').isdigit():\n",
    "                a=verb.index(i)\n",
    "                verb[a]='GO id'\n",
    "            elif str(i).lstrip('[\\'').rstrip('\\']').strip('{').strip('}').strip('(').strip(')').startswith(('AET','AMTR','g','Al','fgenesh1','fgenesh2','scaffold','AT','BVRB','BRADI','GSBRNA2T','Bo','Bra','CHLRE','CHC','CCACVL','Csa','CM','DCAR','Dr','Gasu','GLYMA','B456','HannXRQ','HORVU','LPERR','TanjilG','MANES','MTR','GSMUA','A4A49','OBART','OB','ORGLA','OGLUM','KN','AMD','OMERI','ONIVA','OPUNC','ORUFI','BGIOSGA','Os','OSTLU','PHAVU','Pp','POPTR','PRUPE','SELMODRAFT','SETIT','Solyc','PGS','SORBI')):\n",
    "                a=verb.index(i)\n",
    "                verb[a]='Gene id'\n",
    "            elif str(i).lstrip('[\\'').rstrip('\\']').strip('{').strip('}').strip('(').strip(')').startswith('UPI'):\n",
    "                a=verb.index(i)\n",
    "                verb[a]='Sequence id'\n",
    "            else:\n",
    "                a=verb.index(i)\n",
    "                verb[a]='Protein id'\n",
    "    realQ=' '.join(verb)\n",
    "    realQ=realQ.strip('{').strip('}').strip('(').strip(')')\n",
    "    return(realQ)"
   ]
  },
  {
   "cell_type": "code",
   "execution_count": 6,
   "metadata": {},
   "outputs": [],
   "source": [
    "'''\n",
    "函数说明：将问题和question_pattern计算相似度\n",
    "输入：question\n",
    "{AET4Gv20696400} comes from how many (Species)?\n",
    "what (genes) do {Aegilops tauschii} has?\n",
    "Gene Os01g0740400 is transcribed into what sequence?\n",
    "sequence UPI00004C2817 is transcribed from which gene?\n",
    "输出：相似度最大的问题的类型\n",
    "'''\n",
    "#Q='sequence UPI00004C2817 is transcribed from which gene?'\n",
    "#Question=realQ(Q)\n",
    "#qpattern_dir=\"question_pattern.txt\"\n",
    "def max_sim(Question,qpattern_dir):\n",
    "    m=qPattern(qpattern_dir)\n",
    "    obpattern = r'[\\]](.*?)[?]'\n",
    "    s0_afv = avg_feature_vector(Question, model=model, num_features=300, index2word_set=index2word_set)\n",
    "    simList=[]\n",
    "    for i in m:\n",
    "        text = i\n",
    "        patternObj = re.compile(obpattern)\n",
    "        result1 = str(patternObj.findall(text)).lstrip('[\\'').rstrip('\\']')\n",
    "        s1_afv = avg_feature_vector(result1, model=model, num_features=300, index2word_set=index2word_set)\n",
    "        sim = 1 - spatial.distance.cosine(s0_afv, s1_afv)\n",
    "        simList.append(sim)\n",
    "    #print(simList)  #查看相似度的数值\n",
    "    max_index=simList.index(max(simList))\n",
    "    text2=m[max_index]\n",
    "    pattern1 = r'[\\[](.*?)[\\]]'\n",
    "    patternObj2 = re.compile(pattern1)\n",
    "    result2 = patternObj2.findall(text2)\n",
    "    return(str(result2).lstrip('[\\'').rstrip('\\']'))\n",
    "#max_sim(Question,qpattern_dir)"
   ]
  },
  {
   "cell_type": "code",
   "execution_count": 7,
   "metadata": {},
   "outputs": [],
   "source": [
    "'''\n",
    "函数目标：\n",
    "输入问题，提取里面的实体，宽泛点~\n",
    ".啊啊啊啊\n",
    "protein:{id}   Q03073\n",
    "Species{name}\n",
    "Gene:{id: 'AET4Gv20696400', species: 'Aegilops tauschii'})\n",
    "GO:{id: 'GO:1902494'})(_204455104:GO {id: 'GO:0004553'}\n",
    "Sequence:UPI00013ED01D\n",
    "{UPI4Gv20696400} {comes from} how many (Species)?\n",
    "'''\n",
    "\n",
    "class entity_extract():\n",
    "    def __init__(self,question):\n",
    "        self.question=question\n",
    "    def get_id(self):\n",
    "        dictt=dict()\n",
    "        verb=self.question\n",
    "        verb=verb.split()\n",
    "        for i in verb:\n",
    "            if str(i).lstrip('[\\'').rstrip('\\']').strip('{').strip('}').strip('(').strip(')').rstrip('\\?').isalpha():\n",
    "                continue\n",
    "            elif str(i).lstrip('[\\'').rstrip('\\']').strip('{').strip('}').strip('(').strip(')').rstrip('\\?').isalnum():\n",
    "                if str(i).lstrip('[\\'').rstrip('\\']').strip('{').strip('}').strip('(').strip(')').rstrip('\\?').isdigit():\n",
    "                    a=verb.index(i)\n",
    "                    dictt['GO id']=verb[a]\n",
    "                    return(dictt)\n",
    "                elif str(i).lstrip('[\\'').rstrip('\\']').strip('{').strip('}').strip('(').strip(')').rstrip('\\?').startswith(('AET','AMTR','g','Al','fgenesh1','fgenesh2','scaffold','AT','BVRB','BRADI','GSBRNA2T','Bo','Bra','CHLRE','CHC','CCACVL','Csa','CM','DCAR','Dr','Gasu','GLYMA','B456','HannXRQ','HORVU','LPERR','TanjilG','MANES','MTR','GSMUA','A4A49','OBART','OB','ORGLA','OGLUM','KN','AMD','OMERI','ONIVA','OPUNC','ORUFI','BGIOSGA','Os','OSTLU','PHAVU','Pp','POPTR','PRUPE','SELMODRAFT','SETIT','Solyc','PGS','SORBI')):\n",
    "                    a=verb.index(i)\n",
    "                    dictt['Gene id']=verb[a]\n",
    "                    return(dictt)\n",
    "                elif str(i).lstrip('[\\'').rstrip('\\']').strip('{').strip('}').strip('(').strip(')').rstrip('\\?').startswith('UPI'):\n",
    "                    a=verb.index(i)\n",
    "                    dictt['Sequence id']=verb[a]\n",
    "                    return(dictt)\n",
    "                else:\n",
    "                    a=verb.index(i)\n",
    "                    dictt['Protein id']=verb[a]\n",
    "                    return(dictt)\n",
    "    def get_species(self):\n",
    "        verb=self.question\n",
    "        species_type=[\"Aegilops tauschii\",\"Arabidopsis halleri\",\"Arabidopsis lyrata\",\"Amborella trichopoda\",\"Beta vulgaris\",\"Brassica rapa\",\"Chondrus crispus\",\"Corchorus capsularis\",\"Cyanidioschyzon\",\"Daucus carota\",\"Dioscorea rotundata\",\"Galdieria sulphuraria\",\"Gossypium raimondii\",\"Hordeum vulgare\",\"Oryza brachyantha\",\"Oryza glaberrima\",\"Oryza glumipatula\",\"Arabidopsis thaliana\",\"Brachypodium distachyon\",\"Brassica napus\",\"Brassica oleracea\",\"Chlamydomonas reinhardtii\",\"Cucumis sativus\",\"Glycine max\",\"Helianthus annuus\",\"Leersia perrieri\",\"Lupinus angustifolius\",\"Manihot esculenta\",\"Medicago truncatula\",\"Musa acuminata\",\"Nicotiana attenuata\",\"Oryza barthii\",\"Oryza longistaminata\",\"Oryza rufipogon\",\"Oryza sativa Indica Group\",\"Phaseolus vulgaris\",\"Populus trichocarpa\",\"Oryza meridionalis\",\"Oryza nivara\",\"Oryza punctata\",\"Oryza sativa Japonica Group\",\"Ostreococcus lucimarinus\",\"Physcomitrella patens\",\"Selaginella moellendorffii\",\"Setaria italica\",\"Solanum tuberosum\",\"Theobroma cacao\",\"Vigna angularis\",\"Vigna radiata\",\"Zea mays\",\"Prunus persica\",\"Solanum lycopersicum\",\"Sorghum bicolor\",\"Trifolium pratense\",\"Triticum aestivum\",\"Triticum dicoccoides\",\"Triticum urartu\",\"Vitis vinifera\"]\n",
    "        for i in species_type:\n",
    "            if i in verb:\n",
    "                return (i)\n",
    "            else:\n",
    "                '''\n",
    "                请提供一个精度较高的模块呀- -\n",
    "                '''\n",
    "                continue\n",
    "#m=entity_extract('what genes do molecular function includes in Vitis vinifera ?')\n",
    "#print(m.get_species())\n",
    "#print('Vitis vinifera' in 'what genes do molecular function includes in Vitis vinifera ?')"
   ]
  },
  {
   "cell_type": "code",
   "execution_count": 8,
   "metadata": {},
   "outputs": [],
   "source": [
    "def AnswerQ(string,Question,num=10):\n",
    "    if string=='have1':\n",
    "        body=entity_extract(Question)\n",
    "        species_type=str(body.get_species())\n",
    "        a='match(na:Species{{name:\"{species_type}\"}})-[have]->(nb:Gene) return nb.id limit {num}'.format(species_type=species_type,num=str(num))\n",
    "        return(a)\n",
    "    elif string=='have2':\n",
    "        #[have2] What species do gene id exist in?\n",
    "        body=entity_extract(Question)\n",
    "        ids=body.get_id()['Gene id']\n",
    "        a='match(na:Species)-[have]->(nb:Gene{{id:\"{geneid}\"}}) return na.name limit {num}'.format(geneid=ids,num=str(num))\n",
    "        return(a)\n",
    "    elif string=='be_transcribed_into1':\n",
    "        # [be_transcribed_into1] Gene id is transcribed into what sequence?\n",
    "        body=entity_extract(Question)\n",
    "        ids=body.get_id()['Gene id']\n",
    "        a='match(na:Gene{{id:\"{geneid}\"}})-[be_transcribed_into]->(nb:Sequence) return nb.id limit {num}'.format(geneid=ids,num=str(num))\n",
    "        return(a)\n",
    "    elif string=='be_transcribed_into2':\n",
    "        #[be_transcribed_into2] Gene id is transcribed into what protein?\n",
    "        body=entity_extract(Question)\n",
    "        ids=body.get_id()['Gene id']\n",
    "        a='match(na:Gene{{id:\"{geneid}\"}})-[be_transcribed_into]->(nb:Protein) return nb.id,nb.name limit {num}'.format(geneid=ids,num=str(num))\n",
    "        return(a)\n",
    "    elif string=='be_transcribed_into32':\n",
    "        #[be_transcribed_into3] sequence/protein id is transcribed from which gene?\n",
    "        body=entity_extract(Question)       \n",
    "        ids=body.get_id()['Protein id']\n",
    "        a='match(na:Gene)-[be_transcribed_into]->(nb:Protein{{id:\"{pid}\"}}) return na.id limit {num}'.format(pid=ids,num=str(num))\n",
    "        return(a)\n",
    "    elif string=='be_transcribed_into31':\n",
    "        body=entity_extract(Question)\n",
    "        ids=body.get_id()['Sequence id']\n",
    "        a='match(na:Gene)-[be_transcribed_into]->(nb:Sequence{{id:\"{sid}\"}}) return na.id limit {num}'.format(sid=ids,num=str(num))\n",
    "        return(a)\n",
    "    elif string=='is_a':\n",
    "        #[is_a] what is the GO that has relationship \"is a \" with GO id?\n",
    "        body=entity_extract(Question)\n",
    "        ids=body.get_id()['GO id']\n",
    "        a='match(na:GO{{id:\"GO:{gid}\"}})-[is_a]->(nb:GO) return nb.id limit {num}'.format(gid=ids,num=str(num))\n",
    "        return(a)\n",
    "    elif string=='negatively_regulates':\n",
    "        #[negatively_regulates] what is the GO that has relationship \"negatively regulates \" with GO id?\n",
    "        body=entity_extract(Question)\n",
    "        ids=body.get_id()['GO id']\n",
    "        a='match(na:GO{{id:\"GO:{gid}\"}})-[negatively_regulates]->(nb:GO) return nb.id limit {num}'.format(gid=ids,num=str(num))\n",
    "        return(a)\n",
    "    elif string=='positively_regulates':\n",
    "        #[positively_regulates] what is the GO that has relationship \"positively regulates \" with GO id?\n",
    "        body=entity_extract(Question)\n",
    "        ids=body.get_id()['GO id']\n",
    "        a='match(na:GO{{id:\"GO:{gid}\"}})-[positively_regulates]->(nb:GO) return nb.id limit {num}'.format(gid=ids,num=str(num))\n",
    "        return(a)\n",
    "    elif string=='regulates':\n",
    "        #[regulates] what is the GO that has relationship \"regulates \" with GO id?\n",
    "        body=entity_extract(Question)\n",
    "        ids=body.get_id()['GO id']\n",
    "        a='match(na:GO{{id:\"GO:{gid}\"}})-[regulates]->(nb:GO) return nb.id limit {num}'.format(gid=ids,num=str(num))\n",
    "        return(a)\n",
    "    elif string=='part_of':\n",
    "        #[part_of] what is the GO that has relationship \"part of\" with GO id?\n",
    "        body=entity_extract(Question)\n",
    "        ids=body.get_id()['GO id']\n",
    "        a='match(na:GO{{id:\"GO:{gid}\"}})-[part_of]->(nb:GO) return nb.id limit {num}'.format(gid=ids,num=str(num))\n",
    "        return(a)\n",
    "    elif string=='molecular_function':\n",
    "        #[molecular_function] what genes do molecular function includes in Species?\n",
    "        body=entity_extract(Question)\n",
    "        species_type=str(body.get_species())\n",
    "        a='match(na:Gene{{species:\"{species_type}\"}})-[molecular_function]->(nb:GO) return na.id,na.species limit {num}'.format(species_type=species_type,num=str(num))\n",
    "        return(a)\n",
    "    elif string=='biological_process':\n",
    "        #[biological_process] what genes do biological process includes?\n",
    "        body=entity_extract(Question)\n",
    "        species_type=str(body.get_species())\n",
    "        a='match(na:Gene{{species:\"{species_type}\"}})-[biological_process]->(nb:GO) return na.id,na.species limit {num}'.format(species_type=species_type,num=str(num))\n",
    "        return(a)\n",
    "    elif string=='cellular_component':\n",
    "        #[cellular_component] what genes do cellular component includes?\n",
    "        body=entity_extract(Question)\n",
    "        species_type=str(body.get_species())\n",
    "        a='match(na:Gene{{species:\"{species_type}\"}})-[cellular_component]->(nb:GO) return na.id,na.species limit {num}'.format(species_type=species_type,num=str(num))\n",
    "        return(a)\n",
    "    elif string=='eco':\n",
    "        #[eco] what genes is an evidence ontology in Species?\n",
    "        body=entity_extract(Question)\n",
    "        species_type=str(body.get_species())\n",
    "        a='match(na:Gene{{species:\"{species_type}\"}})-[eco]->(nb:GO) return na.id,na.species limit {num}'.format(species_type=species_type,num=str(num))\n",
    "        return(a)\n",
    "    elif string=='belong_to':\n",
    "        #[belong_to] Sequence id belongs to which protein? \n",
    "        body=entity_extract(Question)\n",
    "        ids=body.get_id()['Sequence id']\n",
    "        a='match(na:Sequence{{id:\"{sid}\"}})-[belong_to]->(nb:Protein) return nb.id limit {num}'.format(sid=ids,num=str(num))\n",
    "        return(a)"
   ]
  },
  {
   "cell_type": "code",
   "execution_count": 9,
   "metadata": {},
   "outputs": [],
   "source": [
    "'''\n",
    "%%%%%%%%%%%%%%%%%%%%%%%%%%%%%%%%%\n",
    "BOSS函数！！！！！\n",
    "%%%%%%%%%%%%%%%%%%%%%%%%%%%%%%%%%\n",
    "\n",
    "\n",
    "示例Q='{Aegilops tauschii} has how many genes?'\n",
    "（因为只有这个句子算是写好了）\n",
    "\n",
    "'''\n",
    "def run():\n",
    "    Q=input('Enter your Question:')\n",
    "    Question=realQ(Q)\n",
    "    qpattern_dir=\"question_pattern.txt\"\n",
    "    m=max_sim(Question,qpattern_dir)\n",
    "    verb=AnswerQ(m,Q)# [,num=5000]\n",
    "    print(get_Answer(verb))\n",
    "    "
   ]
  },
  {
   "cell_type": "code",
   "execution_count": 10,
   "metadata": {
    "scrolled": true
   },
   "outputs": [
    {
     "name": "stdout",
     "output_type": "stream",
     "text": [
      "Enter your Question:what is the GO that has relationship \"is a \" with GO 0060255 ?\n"
     ]
    },
    {
     "name": "stderr",
     "output_type": "stream",
     "text": [
      "/opt/anaconda3/envs/tensorflow/lib/python3.7/site-packages/scipy/spatial/distance.py:720: RuntimeWarning: invalid value encountered in float_scalars\n",
      "  dist = 1.0 - uv / np.sqrt(uu * vv)\n"
     ]
    },
    {
     "name": "stdout",
     "output_type": "stream",
     "text": [
      "        nb.id\n",
      "0  GO:2000653\n",
      "1  GO:2000942\n",
      "2  GO:2000644\n",
      "3  GO:1903018\n",
      "4  GO:1903341\n",
      "5  GO:1901968\n",
      "6  GO:0071514\n",
      "7  GO:0060304\n",
      "8  GO:0051252\n",
      "9  GO:0051052\n"
     ]
    }
   ],
   "source": [
    "'''\n",
    "例子：{Aegilops tauschii} {have} how many (Genes)?\n",
    "What species do gene AET4Gv20696400 exist in?\n",
    "Gene Os01g0740400 is transcribed into what sequence?\n",
    "Gene id is transcribed into what protein?\n",
    "sequence UPI00004C2817 is transcribed from which gene?\n",
    "what is the GO that has relationship \"is a \" with GO 0060255 ?\n",
    "what is the GO that has relationship \"negatively regulates \" with GO 0000086 ?\n",
    "what genes do molecular function includes in Vitis vinifera?\n",
    "what genes is an evidence ontology in Sorghum bicolor?\n",
    "Sequence UPI0000000444 belongs to which protein? \n",
    "运行函数\n",
    "\n",
    "'''\n",
    "if __name__==\"__main__\":\n",
    "    run()"
   ]
  },
  {
   "cell_type": "code",
   "execution_count": 11,
   "metadata": {},
   "outputs": [
    {
     "data": {
      "text/html": [
       "<div>\n",
       "<style scoped>\n",
       "    .dataframe tbody tr th:only-of-type {\n",
       "        vertical-align: middle;\n",
       "    }\n",
       "\n",
       "    .dataframe tbody tr th {\n",
       "        vertical-align: top;\n",
       "    }\n",
       "\n",
       "    .dataframe thead th {\n",
       "        text-align: right;\n",
       "    }\n",
       "</style>\n",
       "<table border=\"1\" class=\"dataframe\">\n",
       "  <thead>\n",
       "    <tr style=\"text-align: right;\">\n",
       "      <th></th>\n",
       "      <th>nb.id</th>\n",
       "    </tr>\n",
       "  </thead>\n",
       "  <tbody>\n",
       "    <tr>\n",
       "      <th>0</th>\n",
       "      <td>UPI00004C2817</td>\n",
       "    </tr>\n",
       "  </tbody>\n",
       "</table>\n",
       "</div>"
      ],
      "text/plain": [
       "           nb.id\n",
       "0  UPI00004C2817"
      ]
     },
     "execution_count": 11,
     "metadata": {},
     "output_type": "execute_result"
    }
   ],
   "source": [
    "a=\"MATCH (Species)-[:have]->(Gene) where Gene.id=\\\"{geneid}\\\" RETURN Species LIMIT {num}\"\n",
    "txt='match(na:Species)-[have]->(nb:Gene{id:\"AET4Gv20696400\"}) return na.name limit 10'\n",
    "ar='match(na:Gene{id:\"Os01g0740400\"})-[be_transcribed_into]->(nb:Sequence) return nb.id limit 10'\n",
    "get_Answer(ar)"
   ]
  },
  {
   "cell_type": "code",
   "execution_count": 12,
   "metadata": {},
   "outputs": [
    {
     "data": {
      "text/plain": [
       "False"
      ]
     },
     "execution_count": 12,
     "metadata": {},
     "output_type": "execute_result"
    }
   ],
   "source": [
    "'0aAET4Gv20696400'.startswith(('a','AET')) "
   ]
  },
  {
   "cell_type": "code",
   "execution_count": null,
   "metadata": {},
   "outputs": [],
   "source": []
  },
  {
   "cell_type": "code",
   "execution_count": null,
   "metadata": {},
   "outputs": [],
   "source": []
  },
  {
   "cell_type": "code",
   "execution_count": null,
   "metadata": {},
   "outputs": [],
   "source": []
  },
  {
   "cell_type": "code",
   "execution_count": null,
   "metadata": {},
   "outputs": [],
   "source": []
  },
  {
   "cell_type": "code",
   "execution_count": null,
   "metadata": {},
   "outputs": [],
   "source": []
  },
  {
   "cell_type": "code",
   "execution_count": null,
   "metadata": {},
   "outputs": [],
   "source": []
  },
  {
   "cell_type": "code",
   "execution_count": null,
   "metadata": {},
   "outputs": [],
   "source": []
  },
  {
   "cell_type": "code",
   "execution_count": null,
   "metadata": {},
   "outputs": [],
   "source": []
  }
 ],
 "metadata": {
  "kernelspec": {
   "display_name": "Python 3",
   "language": "python",
   "name": "python3"
  },
  "language_info": {
   "codemirror_mode": {
    "name": "ipython",
    "version": 3
   },
   "file_extension": ".py",
   "mimetype": "text/x-python",
   "name": "python",
   "nbconvert_exporter": "python",
   "pygments_lexer": "ipython3",
   "version": "3.7.7"
  }
 },
 "nbformat": 4,
 "nbformat_minor": 4
}
